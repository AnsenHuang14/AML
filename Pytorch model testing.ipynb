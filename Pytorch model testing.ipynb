{
 "cells": [
  {
   "cell_type": "code",
   "execution_count": 1,
   "metadata": {},
   "outputs": [],
   "source": [
    "import torch\n",
    "from transformers import BertTokenizer, BertModel"
   ]
  },
  {
   "cell_type": "markdown",
   "metadata": {},
   "source": [
    "# Data preprocessing"
   ]
  },
  {
   "cell_type": "markdown",
   "metadata": {},
   "source": [
    "## How to load tokenizer"
   ]
  },
  {
   "cell_type": "code",
   "execution_count": 2,
   "metadata": {},
   "outputs": [],
   "source": [
    "tokenizer = BertTokenizer.from_pretrained('./pytorch-ernie', do_lower_case = True)"
   ]
  },
  {
   "cell_type": "markdown",
   "metadata": {},
   "source": [
    "### Convert batch sentence to tokens"
   ]
  },
  {
   "cell_type": "code",
   "execution_count": 3,
   "metadata": {},
   "outputs": [],
   "source": [
    "batch_sentences = [\"Hello I'm a single sentence\",\n",
    "                   \"And another sentence\",\n",
    "                   \"And the very very last one\"]\n",
    "encoded_inputs = tokenizer(batch_sentences, padding=True, return_tensors=\"pt\", add_special_tokens=True)"
   ]
  },
  {
   "cell_type": "code",
   "execution_count": 4,
   "metadata": {
    "scrolled": true
   },
   "outputs": [
    {
     "data": {
      "text/plain": [
       "{'input_ids': tensor([[    1,  6368,  1675, 17963,  1979,  1545,  7512,  8090,  9595, 10483,\n",
       "             2],\n",
       "        [    1,  1662,  7076,  8090,  9595, 10483,     2,     0,     0,     0,\n",
       "             0],\n",
       "        [    1,  1662,  1499,  6318,  6318,  6975,  3777,     2,     0,     0,\n",
       "             0]]), 'token_type_ids': tensor([[0, 0, 0, 0, 0, 0, 0, 0, 0, 0, 0],\n",
       "        [0, 0, 0, 0, 0, 0, 0, 0, 0, 0, 0],\n",
       "        [0, 0, 0, 0, 0, 0, 0, 0, 0, 0, 0]]), 'attention_mask': tensor([[1, 1, 1, 1, 1, 1, 1, 1, 1, 1, 1],\n",
       "        [1, 1, 1, 1, 1, 1, 1, 0, 0, 0, 0],\n",
       "        [1, 1, 1, 1, 1, 1, 1, 1, 0, 0, 0]])}"
      ]
     },
     "execution_count": 4,
     "metadata": {},
     "output_type": "execute_result"
    }
   ],
   "source": [
    "encoded_inputs"
   ]
  },
  {
   "cell_type": "markdown",
   "metadata": {},
   "source": [
    "## Modeling"
   ]
  },
  {
   "cell_type": "code",
   "execution_count": 8,
   "metadata": {},
   "outputs": [],
   "source": [
    "from Code.model import *"
   ]
  },
  {
   "cell_type": "code",
   "execution_count": 9,
   "metadata": {},
   "outputs": [],
   "source": [
    "model = BertClassifier()"
   ]
  },
  {
   "cell_type": "code",
   "execution_count": 16,
   "metadata": {
    "scrolled": true
   },
   "outputs": [
    {
     "name": "stdout",
     "output_type": "stream",
     "text": [
      "[CLS] hello i [UNK] m a single sentence [SEP]\n",
      "[CLS] and another sentence [SEP] [PAD] [PAD] [PAD] [PAD]\n",
      "[CLS] and the very very last one [SEP] [PAD] [PAD] [PAD]\n"
     ]
    }
   ],
   "source": [
    "batch_sentences = [\"Hello I'm a single sentence\",\n",
    "                   \"And another sentence\",\n",
    "                   \"And the very very last one\"]\n",
    "encoded_inputs = tokenizer(batch_sentences, padding=True, return_tensors=\"pt\", add_special_tokens=True)\n",
    "for ids in encoded_inputs[\"input_ids\"]:\n",
    "    print(tokenizer.decode(ids))\n",
    "input_tensor = encoded_inputs[\"input_ids\"]\n",
    "padding_mask = encoded_inputs['attention_mask']"
   ]
  },
  {
   "cell_type": "code",
   "execution_count": 17,
   "metadata": {},
   "outputs": [
    {
     "data": {
      "text/plain": [
       "tensor([[    1,  6368,  1675, 17963,  1979,  1545,  7512,  8090,  9595, 10483,\n",
       "             2],\n",
       "        [    1,  1662,  7076,  8090,  9595, 10483,     2,     0,     0,     0,\n",
       "             0],\n",
       "        [    1,  1662,  1499,  6318,  6318,  6975,  3777,     2,     0,     0,\n",
       "             0]])"
      ]
     },
     "execution_count": 17,
     "metadata": {},
     "output_type": "execute_result"
    }
   ],
   "source": [
    "padding_mask\n",
    "encoded_inputs[\"input_ids\"]"
   ]
  },
  {
   "cell_type": "code",
   "execution_count": 18,
   "metadata": {
    "scrolled": true
   },
   "outputs": [
    {
     "name": "stdout",
     "output_type": "stream",
     "text": [
      "(3, 11)\n"
     ]
    }
   ],
   "source": [
    "output = model(input_tensor)\n",
    "print(output.detach().numpy().shape)"
   ]
  },
  {
   "cell_type": "code",
   "execution_count": 19,
   "metadata": {},
   "outputs": [
    {
     "data": {
      "text/plain": [
       "tensor(0.5048, grad_fn=<MulBackward0>)"
      ]
     },
     "execution_count": 19,
     "metadata": {},
     "output_type": "execute_result"
    }
   ],
   "source": [
    "y_true = output\n",
    "mask_BCE_loss(y_true, output, padding_mask)"
   ]
  },
  {
   "cell_type": "markdown",
   "metadata": {},
   "source": [
    "## Data loader\n",
    "pos:   372\n",
    "neg:   4651\n",
    "total: 5023\n"
   ]
  },
  {
   "cell_type": "code",
   "execution_count": 359,
   "metadata": {},
   "outputs": [],
   "source": [
    "import torch\n",
    "from transformers import BertTokenizer, BertModel\n",
    "import glob\n",
    "import chinese_converter\n",
    "from string import punctuation\n",
    "import ast\n",
    "import numpy as np\n",
    "import re\n",
    "\n",
    "class AMLDataset(torch.utils.data.Dataset):\n",
    "    def __init__(self, data_path='./data/training_set/', model_path='./pytorch-ernie'):\n",
    "#         self.paths = glob.glob(data_path+\"*.txt\")\n",
    "        self.paths = glob.glob(data_path+\"108.txt\")+glob.glob(data_path+\"209.txt\")+glob.glob(data_path+\"1.txt\")\n",
    "        self.tokenizer = BertTokenizer.from_pretrained('./pytorch-ernie', do_lower_case = True)\n",
    "        \n",
    "    def __len__(self):\n",
    "        'Denotes the total number of samples'\n",
    "        return len(self.paths)\n",
    "\n",
    "    def __getitem__(self, index):\n",
    "        path = self.paths[index]\n",
    "        with open(path, encoding = 'utf-8') as f:\n",
    "            text = f.read().split('\\n')\n",
    "            target = \" \".join(ast.literal_eval(text[0]))\n",
    "            print(target)\n",
    "            input_data = \"\".join(text[1:])\n",
    "            input_data = re.sub(r'[A-Za-z]','', input_data)\n",
    "            # remove punctuation\n",
    "            punctuation_characters = punctuation+'。、·「」！，）：（【】'\n",
    "            input_data = input_data.translate(str.maketrans('', '',punctuation_characters ))\n",
    "            # remove space\n",
    "            input_data = input_data.replace(' ','')\n",
    "        return input_data, target\n",
    "        \n",
    "\n",
    "def convert_batch_token_target(batch_input_data, batch_target):\n",
    "    batch_input_data = [chinese_converter.to_simplified(d) for d in batch_input_data]\n",
    "    input_tensor = tokenizer(batch_input_data, padding=True, return_tensors=\"pt\", add_special_tokens=False)\n",
    "    input_token, padding_mask = input_tensor[\"input_ids\"], input_tensor['attention_mask']\n",
    "    batch_target = process_target(input_token, batch_target)\n",
    "    return  input_token, padding_mask, torch.tensor(batch_target)\n",
    "\n",
    "def process_target(input_token, batch_target):\n",
    "    targets = []\n",
    "    for slice_token, names in zip(input_token, batch_target):\n",
    "        text = tokenizer.decode(slice_token, clean_up_tokenization_spaces=False).split(' ')\n",
    "        target = [0]*len(text)\n",
    "        for name in names.split(\" \"):\n",
    "            name = chinese_converter.to_simplified(name)\n",
    "            for i in range(len(text)-len(name)):\n",
    "                if name == \"\".join(text[i:i+len(name)]):\n",
    "                    target[i:i+len(name)] = [1]*len(name)\n",
    "        targets.append(target)\n",
    "    return targets\n",
    "                    "
   ]
  },
  {
   "cell_type": "code",
   "execution_count": 360,
   "metadata": {},
   "outputs": [],
   "source": [
    "data = AMLDataset()\n",
    "dataloader = torch.utils.data.DataLoader(data, batch_size=4, shuffle=True, num_workers=1)"
   ]
  },
  {
   "cell_type": "code",
   "execution_count": 361,
   "metadata": {
    "scrolled": false
   },
   "outputs": [
    {
     "name": "stdout",
     "output_type": "stream",
     "text": [
      "彭振源 王澤生 楚瑞芳\n",
      "\n",
      "陳淳伍\n",
      "torch.Size([3, 1330]) torch.Size([3, 1330]) torch.Size([3, 1330])\n"
     ]
    }
   ],
   "source": [
    "for d, t in dataloader:\n",
    "    d, m, t = convert_batch_token_target(list(d), list(t))\n",
    "    print(d.size(), m.size(), t.size())\n",
    "    break"
   ]
  },
  {
   "cell_type": "code",
   "execution_count": null,
   "metadata": {},
   "outputs": [],
   "source": []
  }
 ],
 "metadata": {
  "kernelspec": {
   "display_name": "Python 3",
   "language": "python",
   "name": "python3"
  },
  "language_info": {
   "codemirror_mode": {
    "name": "ipython",
    "version": 3
   },
   "file_extension": ".py",
   "mimetype": "text/x-python",
   "name": "python",
   "nbconvert_exporter": "python",
   "pygments_lexer": "ipython3",
   "version": "3.7.4"
  }
 },
 "nbformat": 4,
 "nbformat_minor": 2
}
