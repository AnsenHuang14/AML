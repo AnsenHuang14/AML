{
 "cells": [
  {
   "cell_type": "code",
   "execution_count": 1,
   "metadata": {},
   "outputs": [],
   "source": [
    "import torch\n",
    "from transformers import BertTokenizer, BertModel"
   ]
  },
  {
   "cell_type": "markdown",
   "metadata": {},
   "source": [
    "# Data preprocessing"
   ]
  },
  {
   "cell_type": "markdown",
   "metadata": {},
   "source": [
    "## How to load tokenizer"
   ]
  },
  {
   "cell_type": "code",
   "execution_count": 2,
   "metadata": {},
   "outputs": [],
   "source": [
    "tokenizer = BertTokenizer.from_pretrained('./pytorch-ernie', do_lower_case = True)"
   ]
  },
  {
   "cell_type": "markdown",
   "metadata": {},
   "source": [
    "## Modeling"
   ]
  },
  {
   "cell_type": "code",
   "execution_count": 3,
   "metadata": {},
   "outputs": [],
   "source": [
    "from Code.model import *"
   ]
  },
  {
   "cell_type": "code",
   "execution_count": 4,
   "metadata": {},
   "outputs": [],
   "source": [
    "model = BertClassifier()"
   ]
  },
  {
   "cell_type": "markdown",
   "metadata": {},
   "source": [
    "## Data loader\n",
    "pos:   372\n",
    "neg:   4651\n",
    "total: 5023\n"
   ]
  },
  {
   "cell_type": "code",
   "execution_count": 21,
   "metadata": {},
   "outputs": [],
   "source": [
    "import torch\n",
    "from transformers import BertTokenizer, BertModel\n",
    "import glob\n",
    "import chinese_converter\n",
    "from string import punctuation\n",
    "import ast\n",
    "import numpy as np\n",
    "import re\n",
    "\n",
    "class AMLDataset(torch.utils.data.Dataset):\n",
    "    def __init__(self, data_path='./data/training_set/', model_path='./pytorch-ernie'):\n",
    "        self.paths = glob.glob(data_path+\"*.txt\")\n",
    "#         self.paths = glob.glob(data_path+\"108.txt\")+glob.glob(data_path+\"209.txt\")+glob.glob(data_path+\"1.txt\")\n",
    "        self.tokenizer = BertTokenizer.from_pretrained('./pytorch-ernie', do_lower_case = True)\n",
    "        \n",
    "    def __len__(self):\n",
    "        'Denotes the total number of samples'\n",
    "        return len(self.paths)\n",
    "\n",
    "    def __getitem__(self, index):\n",
    "        path = self.paths[index]\n",
    "        with open(path, encoding = 'utf-8') as f:\n",
    "            text = f.read().split('\\n')\n",
    "            target = \" \".join(ast.literal_eval(text[0]))\n",
    "            input_data = \"\".join(text[1:])\n",
    "#             input_data = re.sub(r'[A-Za-z]','', input_data)\n",
    "            # remove punctuation\n",
    "#             punctuation_characters = punctuation+'。、·「」！，）：（【】'\n",
    "#             input_data = input_data.translate(str.maketrans('', '',punctuation_characters ))\n",
    "            # remove space\n",
    "#             input_data = input_data.replace(' ','')\n",
    "\n",
    "            # remove data without context\n",
    "            if len(input_data) < 10:\n",
    "                target = ''\n",
    "        return input_data, target\n",
    "        \n",
    "def convert_batch_token_target(batch_input_data, batch_target):\n",
    "    batch_input_data = [chinese_converter.to_simplified(d) for d in batch_input_data]\n",
    "    input_tensor = tokenizer(batch_input_data, padding=True, return_tensors=\"pt\", add_special_tokens=False)\n",
    "    input_token, padding_mask = input_tensor[\"input_ids\"], input_tensor['attention_mask']\n",
    "    batch_target = process_target(input_token, batch_target)\n",
    "    return  input_token, padding_mask, torch.tensor(batch_target)\n",
    "\n",
    "# process target binary array\n",
    "def process_target(input_token, batch_target):\n",
    "    targets = []\n",
    "    for slice_token, names in zip(input_token, batch_target):\n",
    "#         text = tokenizer.decode(slice_token, clean_up_tokenization_spaces=False).split(' ')\n",
    "        text = tokenizer.convert_ids_to_tokens(slice_token)\n",
    "        target = [0]*len(text)\n",
    "        for name in names.split(\" \"):\n",
    "            name = chinese_converter.to_simplified(name)\n",
    "            for i in range(len(text)-len(name)):\n",
    "                if name == \"\".join(text[i:i+len(name)]):\n",
    "                    target[i:i+len(name)] = [1]*len(name)\n",
    "        targets.append(target)\n",
    "    return targets\n",
    "\n",
    "# map binary prediction to text\n",
    "def map_batch_prediction_to_text(input_tokens, predictions):\n",
    "    batch_text_prediction = []\n",
    "    for slice_token, prediction in zip(input_tokens, predictions):\n",
    "#         text = tokenizer.decode(slice_token, clean_up_tokenization_spaces=True).split(' ')\n",
    "        text = tokenizer.convert_ids_to_tokens(slice_token)\n",
    "        text_prediction = []\n",
    "        name = ''\n",
    "        for t, p in zip(text, prediction):\n",
    "            if p==0:\n",
    "                if name != '':\n",
    "                    text_prediction.append(name)\n",
    "                name = ''\n",
    "            else:\n",
    "                name += t\n",
    "        batch_text_prediction.append(text_prediction)\n",
    "    return [list(set(p)) for p in batch_text_prediction]\n",
    "\n",
    "def split_data(token_tensor, mask_tensor, target_tensor, max_length):\n",
    "    bs, seq = token_tensor.size()\n",
    "    output_token_tensor = []\n",
    "    output_mask_tensor = []\n",
    "    output_target_tensor = []\n",
    "    for i in range(int(np.ceil(seq/max_length))):\n",
    "        output_token_tensor.append(token_tensor[:,i*max_length:(i+1)*max_length])\n",
    "        output_mask_tensor.append(mask_tensor[:,i*max_length:(i+1)*max_length])\n",
    "        output_target_tensor.append(target_tensor[:,i*max_length:(i+1)*max_length])\n",
    "    return output_token_tensor, output_mask_tensor, output_target_tensor"
   ]
  },
  {
   "cell_type": "code",
   "execution_count": 26,
   "metadata": {},
   "outputs": [],
   "source": [
    "loss_fn = torch.nn.functional.binary_cross_entropy_with_logits"
   ]
  },
  {
   "cell_type": "code",
   "execution_count": 30,
   "metadata": {},
   "outputs": [],
   "source": [
    "data = AMLDataset()\n",
    "dataloader = torch.utils.data.DataLoader(data, batch_size=4, shuffle=True, num_workers=1)"
   ]
  },
  {
   "cell_type": "code",
   "execution_count": 33,
   "metadata": {
    "scrolled": false
   },
   "outputs": [
    {
     "name": "stdout",
     "output_type": "stream",
     "text": [
      "==0==\n",
      "torch.Size([4, 1199]) torch.Size([4, 1199]) torch.Size([4, 1199])\n",
      "0.16936317086219788\n",
      "map_batch_prediction_to_text: [[], ['状', '9', '发', '不断发'], [], []]\n",
      "0.06426649540662766\n",
      "map_batch_prediction_to_text: [[], [], ['使', '支持', '接', '7', '，'], []]\n",
      "0.009261282160878181\n",
      "map_batch_prediction_to_text: [[], [], [], []]\n",
      "==1==\n",
      "torch.Size([4, 4536]) torch.Size([4, 4536]) torch.Size([4, 4536])\n",
      "0.03999470919370651\n",
      "map_batch_prediction_to_text: [[], [], [], []]\n",
      "0.011447896249592304\n",
      "map_batch_prediction_to_text: [[], [], [], []]\n",
      "0.004872215911746025\n",
      "map_batch_prediction_to_text: [[], [], [], []]\n",
      "0.004220792092382908\n",
      "map_batch_prediction_to_text: [[], [], [], []]\n",
      "0.0037228211294859648\n"
     ]
    },
    {
     "ename": "KeyboardInterrupt",
     "evalue": "",
     "output_type": "error",
     "traceback": [
      "\u001b[0;31m---------------------------------------------------------------------------\u001b[0m",
      "\u001b[0;31mKeyboardInterrupt\u001b[0m                         Traceback (most recent call last)",
      "\u001b[0;32m<ipython-input-33-5738f3563d7f>\u001b[0m in \u001b[0;36m<module>\u001b[0;34m\u001b[0m\n\u001b[1;32m     11\u001b[0m         \u001b[0mloss\u001b[0m \u001b[0;34m=\u001b[0m \u001b[0mmask_BCE_loss\u001b[0m\u001b[0;34m(\u001b[0m\u001b[0my_pred\u001b[0m \u001b[0;34m=\u001b[0m \u001b[0moutput\u001b[0m\u001b[0;34m.\u001b[0m\u001b[0mfloat\u001b[0m\u001b[0;34m(\u001b[0m\u001b[0;34m)\u001b[0m\u001b[0;34m,\u001b[0m \u001b[0my_true\u001b[0m \u001b[0;34m=\u001b[0m \u001b[0mt\u001b[0m\u001b[0;34m.\u001b[0m\u001b[0mfloat\u001b[0m\u001b[0;34m(\u001b[0m\u001b[0;34m)\u001b[0m\u001b[0;34m,\u001b[0m \u001b[0mpadding_mask\u001b[0m \u001b[0;34m=\u001b[0m \u001b[0mm\u001b[0m\u001b[0;34m.\u001b[0m\u001b[0mfloat\u001b[0m\u001b[0;34m(\u001b[0m\u001b[0;34m)\u001b[0m\u001b[0;34m)\u001b[0m\u001b[0;34m\u001b[0m\u001b[0;34m\u001b[0m\u001b[0m\n\u001b[1;32m     12\u001b[0m         \u001b[0mprint\u001b[0m\u001b[0;34m(\u001b[0m\u001b[0mloss\u001b[0m\u001b[0;34m.\u001b[0m\u001b[0mitem\u001b[0m\u001b[0;34m(\u001b[0m\u001b[0;34m)\u001b[0m\u001b[0;34m)\u001b[0m\u001b[0;34m\u001b[0m\u001b[0;34m\u001b[0m\u001b[0m\n\u001b[0;32m---> 13\u001b[0;31m         \u001b[0mloss\u001b[0m\u001b[0;34m.\u001b[0m\u001b[0mbackward\u001b[0m\u001b[0;34m(\u001b[0m\u001b[0;34m)\u001b[0m\u001b[0;34m\u001b[0m\u001b[0;34m\u001b[0m\u001b[0m\n\u001b[0m\u001b[1;32m     14\u001b[0m         \u001b[0mprediction\u001b[0m \u001b[0;34m=\u001b[0m \u001b[0mmap_batch_prediction_to_text\u001b[0m\u001b[0;34m(\u001b[0m\u001b[0md\u001b[0m\u001b[0;34m,\u001b[0m \u001b[0moutput\u001b[0m\u001b[0;34m.\u001b[0m\u001b[0mround\u001b[0m\u001b[0;34m(\u001b[0m\u001b[0;34m)\u001b[0m\u001b[0;34m)\u001b[0m\u001b[0;34m\u001b[0m\u001b[0;34m\u001b[0m\u001b[0m\n\u001b[1;32m     15\u001b[0m         \u001b[0mprint\u001b[0m\u001b[0;34m(\u001b[0m\u001b[0;34m\"map_batch_prediction_to_text:\"\u001b[0m\u001b[0;34m,\u001b[0m\u001b[0mprediction\u001b[0m\u001b[0;34m)\u001b[0m\u001b[0;34m\u001b[0m\u001b[0;34m\u001b[0m\u001b[0m\n",
      "\u001b[0;32m~/opt/anaconda3/lib/python3.7/site-packages/torch/tensor.py\u001b[0m in \u001b[0;36mbackward\u001b[0;34m(self, gradient, retain_graph, create_graph)\u001b[0m\n\u001b[1;32m    148\u001b[0m                 \u001b[0mproducts\u001b[0m\u001b[0;34m.\u001b[0m \u001b[0mDefaults\u001b[0m \u001b[0mto\u001b[0m\u001b[0;31m \u001b[0m\u001b[0;31m`\u001b[0m\u001b[0;31m`\u001b[0m\u001b[0;32mFalse\u001b[0m\u001b[0;31m`\u001b[0m\u001b[0;31m`\u001b[0m\u001b[0;34m.\u001b[0m\u001b[0;34m\u001b[0m\u001b[0;34m\u001b[0m\u001b[0m\n\u001b[1;32m    149\u001b[0m         \"\"\"\n\u001b[0;32m--> 150\u001b[0;31m         \u001b[0mtorch\u001b[0m\u001b[0;34m.\u001b[0m\u001b[0mautograd\u001b[0m\u001b[0;34m.\u001b[0m\u001b[0mbackward\u001b[0m\u001b[0;34m(\u001b[0m\u001b[0mself\u001b[0m\u001b[0;34m,\u001b[0m \u001b[0mgradient\u001b[0m\u001b[0;34m,\u001b[0m \u001b[0mretain_graph\u001b[0m\u001b[0;34m,\u001b[0m \u001b[0mcreate_graph\u001b[0m\u001b[0;34m)\u001b[0m\u001b[0;34m\u001b[0m\u001b[0;34m\u001b[0m\u001b[0m\n\u001b[0m\u001b[1;32m    151\u001b[0m \u001b[0;34m\u001b[0m\u001b[0m\n\u001b[1;32m    152\u001b[0m     \u001b[0;32mdef\u001b[0m \u001b[0mregister_hook\u001b[0m\u001b[0;34m(\u001b[0m\u001b[0mself\u001b[0m\u001b[0;34m,\u001b[0m \u001b[0mhook\u001b[0m\u001b[0;34m)\u001b[0m\u001b[0;34m:\u001b[0m\u001b[0;34m\u001b[0m\u001b[0;34m\u001b[0m\u001b[0m\n",
      "\u001b[0;32m~/opt/anaconda3/lib/python3.7/site-packages/torch/autograd/__init__.py\u001b[0m in \u001b[0;36mbackward\u001b[0;34m(tensors, grad_tensors, retain_graph, create_graph, grad_variables)\u001b[0m\n\u001b[1;32m     97\u001b[0m     Variable._execution_engine.run_backward(\n\u001b[1;32m     98\u001b[0m         \u001b[0mtensors\u001b[0m\u001b[0;34m,\u001b[0m \u001b[0mgrad_tensors\u001b[0m\u001b[0;34m,\u001b[0m \u001b[0mretain_graph\u001b[0m\u001b[0;34m,\u001b[0m \u001b[0mcreate_graph\u001b[0m\u001b[0;34m,\u001b[0m\u001b[0;34m\u001b[0m\u001b[0;34m\u001b[0m\u001b[0m\n\u001b[0;32m---> 99\u001b[0;31m         allow_unreachable=True)  # allow_unreachable flag\n\u001b[0m\u001b[1;32m    100\u001b[0m \u001b[0;34m\u001b[0m\u001b[0m\n\u001b[1;32m    101\u001b[0m \u001b[0;34m\u001b[0m\u001b[0m\n",
      "\u001b[0;31mKeyboardInterrupt\u001b[0m: "
     ]
    }
   ],
   "source": [
    "model.train()\n",
    "optimizer = torch.optim.Adam(model.parameters(), lr=1e-5)\n",
    "for idx, (d, t) in enumerate(dataloader):\n",
    "    print('=={}=='.format(idx))\n",
    "    d, m, t = convert_batch_token_target(list(d), list(t))\n",
    "    print(d.size(), m.size(), t.size())\n",
    "    split_d, split_m, split_t = split_data(d, m, t, 512)\n",
    "    for (d, m), t in zip(zip(split_d, split_m), split_t):\n",
    "        optimizer.zero_grad()\n",
    "        output = model(d)\n",
    "        loss = mask_BCE_loss(y_pred = output.float(), y_true = t.float(), padding_mask = m.float())\n",
    "        print(loss.item())\n",
    "        loss.backward()\n",
    "        prediction = map_batch_prediction_to_text(d, output.round())\n",
    "        print(\"map_batch_prediction_to_text:\",prediction)\n",
    "        optimizer.step()\n",
    "    \n",
    "    "
   ]
  },
  {
   "cell_type": "code",
   "execution_count": null,
   "metadata": {},
   "outputs": [],
   "source": []
  },
  {
   "cell_type": "code",
   "execution_count": null,
   "metadata": {},
   "outputs": [],
   "source": []
  }
 ],
 "metadata": {
  "kernelspec": {
   "display_name": "Python 3",
   "language": "python",
   "name": "python3"
  },
  "language_info": {
   "codemirror_mode": {
    "name": "ipython",
    "version": 3
   },
   "file_extension": ".py",
   "mimetype": "text/x-python",
   "name": "python",
   "nbconvert_exporter": "python",
   "pygments_lexer": "ipython3",
   "version": "3.7.4"
  }
 },
 "nbformat": 4,
 "nbformat_minor": 2
}
